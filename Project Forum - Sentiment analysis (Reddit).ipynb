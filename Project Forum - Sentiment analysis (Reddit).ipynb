{
 "cells": [
  {
   "cell_type": "code",
   "execution_count": 1,
   "metadata": {},
   "outputs": [
    {
     "data": {
      "text/html": [
       "<div>\n",
       "<style scoped>\n",
       "    .dataframe tbody tr th:only-of-type {\n",
       "        vertical-align: middle;\n",
       "    }\n",
       "\n",
       "    .dataframe tbody tr th {\n",
       "        vertical-align: top;\n",
       "    }\n",
       "\n",
       "    .dataframe thead th {\n",
       "        text-align: right;\n",
       "    }\n",
       "</style>\n",
       "<table border=\"1\" class=\"dataframe\">\n",
       "  <thead>\n",
       "    <tr style=\"text-align: right;\">\n",
       "      <th></th>\n",
       "      <th>Comment</th>\n",
       "    </tr>\n",
       "  </thead>\n",
       "  <tbody>\n",
       "    <tr>\n",
       "      <th>0</th>\n",
       "      <td>happy new year guys!! watching taipei 101 fire...</td>\n",
       "    </tr>\n",
       "    <tr>\n",
       "      <th>1</th>\n",
       "      <td>happy new year redditporeans!</td>\n",
       "    </tr>\n",
       "    <tr>\n",
       "      <th>2</th>\n",
       "      <td>2017: get 2b license and a motorcycle 2018: ge...</td>\n",
       "    </tr>\n",
       "    <tr>\n",
       "      <th>3</th>\n",
       "      <td>happy new year!! my new year resolution for re...</td>\n",
       "    </tr>\n",
       "    <tr>\n",
       "      <th>4</th>\n",
       "      <td>happy new year guys</td>\n",
       "    </tr>\n",
       "  </tbody>\n",
       "</table>\n",
       "</div>"
      ],
      "text/plain": [
       "                                             Comment\n",
       "0  happy new year guys!! watching taipei 101 fire...\n",
       "1                      happy new year redditporeans!\n",
       "2  2017: get 2b license and a motorcycle 2018: ge...\n",
       "3  happy new year!! my new year resolution for re...\n",
       "4                                happy new year guys"
      ]
     },
     "execution_count": 1,
     "metadata": {},
     "output_type": "execute_result"
    }
   ],
   "source": [
    "import pandas as pd\n",
    "\n",
    "# read data\n",
    "comments_df = pd.read_csv(\"/Users/cheryl/Desktop/Project Forum/Data/reddit_data_clean.csv\")\n",
    "\n",
    "# select only relevant columns\n",
    "comments_df = comments_df[[\"Comment\"]]\n",
    "comments_df.head()"
   ]
  },
  {
   "cell_type": "code",
   "execution_count": 2,
   "metadata": {},
   "outputs": [
    {
     "data": {
      "text/html": [
       "<div>\n",
       "<style scoped>\n",
       "    .dataframe tbody tr th:only-of-type {\n",
       "        vertical-align: middle;\n",
       "    }\n",
       "\n",
       "    .dataframe tbody tr th {\n",
       "        vertical-align: top;\n",
       "    }\n",
       "\n",
       "    .dataframe thead th {\n",
       "        text-align: right;\n",
       "    }\n",
       "</style>\n",
       "<table border=\"1\" class=\"dataframe\">\n",
       "  <thead>\n",
       "    <tr style=\"text-align: right;\">\n",
       "      <th></th>\n",
       "      <th>Comment</th>\n",
       "    </tr>\n",
       "  </thead>\n",
       "  <tbody>\n",
       "    <tr>\n",
       "      <th>483407</th>\n",
       "      <td>you are 100% accurate on the peer pressure and...</td>\n",
       "    </tr>\n",
       "    <tr>\n",
       "      <th>779364</th>\n",
       "      <td>yeah i’ll be doing that tmr, it’s ph today</td>\n",
       "    </tr>\n",
       "    <tr>\n",
       "      <th>162219</th>\n",
       "      <td>not too bad actually, when i was younger it wa...</td>\n",
       "    </tr>\n",
       "    <tr>\n",
       "      <th>751992</th>\n",
       "      <td>op pls deliver, i wanna see what their almost is</td>\n",
       "    </tr>\n",
       "    <tr>\n",
       "      <th>1012090</th>\n",
       "      <td>everybody clapped</td>\n",
       "    </tr>\n",
       "  </tbody>\n",
       "</table>\n",
       "</div>"
      ],
      "text/plain": [
       "                                                   Comment\n",
       "483407   you are 100% accurate on the peer pressure and...\n",
       "779364          yeah i’ll be doing that tmr, it’s ph today\n",
       "162219   not too bad actually, when i was younger it wa...\n",
       "751992    op pls deliver, i wanna see what their almost is\n",
       "1012090                                  everybody clapped"
      ]
     },
     "execution_count": 2,
     "metadata": {},
     "output_type": "execute_result"
    }
   ],
   "source": [
    "comments_df = comments_df.sample(frac = 0.1, replace = False, random_state=42)\n",
    "comments_df.head()"
   ]
  },
  {
   "cell_type": "code",
   "execution_count": 4,
   "metadata": {},
   "outputs": [],
   "source": [
    "# return the wordnet object value corresponding to the POS tag\n",
    "from nltk.corpus import wordnet\n",
    "\n",
    "def get_wordnet_pos(pos_tag):\n",
    "    if pos_tag.startswith('J'):\n",
    "        return wordnet.ADJ\n",
    "    elif pos_tag.startswith('V'):\n",
    "        return wordnet.VERB\n",
    "    elif pos_tag.startswith('N'):\n",
    "        return wordnet.NOUN\n",
    "    elif pos_tag.startswith('R'):\n",
    "        return wordnet.ADV\n",
    "    else:\n",
    "        return wordnet.NOUN\n",
    "    \n",
    "import string\n",
    "from nltk import pos_tag\n",
    "from nltk.corpus import stopwords\n",
    "from nltk.tokenize import WhitespaceTokenizer\n",
    "from nltk.stem import WordNetLemmatizer\n",
    "\n",
    "def clean_text(text):\n",
    "    # lower text\n",
    "    text = text.lower()\n",
    "    # tokenize text and remove puncutation\n",
    "    text = [word.strip(string.punctuation) for word in text.split(\" \")]\n",
    "    # remove words that contain numbers\n",
    "    text = [word for word in text if not any(c.isdigit() for c in word)]\n",
    "    # remove stop words\n",
    "    stop = stopwords.words('english')\n",
    "    text = [x for x in text if x not in stop]\n",
    "    # remove empty tokens\n",
    "    text = [t for t in text if len(t) > 0]\n",
    "    # pos tag text\n",
    "    pos_tags = pos_tag(text)\n",
    "    # lemmatize text\n",
    "    text = [WordNetLemmatizer().lemmatize(t[0], get_wordnet_pos(t[1])) for t in pos_tags]\n",
    "    # remove words with only one letter\n",
    "    text = [t for t in text if len(t) > 1]\n",
    "    # join all\n",
    "    text = \" \".join(text)\n",
    "    return(text)\n",
    "\n",
    "# clean text data\n",
    "comments_df[\"comment_clean\"] = comments_df[\"Comment\"].apply(lambda x: clean_text(x))"
   ]
  },
  {
   "cell_type": "code",
   "execution_count": 6,
   "metadata": {},
   "outputs": [],
   "source": [
    "# add sentiment anaylsis columns\n",
    "from nltk.sentiment.vader import SentimentIntensityAnalyzer\n",
    "\n",
    "sid = SentimentIntensityAnalyzer()\n",
    "comments_df[\"sentiments\"] = comments_df[\"Comment\"].apply(lambda x: sid.polarity_scores(x))\n",
    "comments_df = pd.concat([comments_df.drop(['sentiments'], axis=1), comments_df['sentiments'].apply(pd.Series)], axis=1)"
   ]
  },
  {
   "cell_type": "code",
   "execution_count": 7,
   "metadata": {},
   "outputs": [
    {
     "data": {
      "text/html": [
       "<div>\n",
       "<style scoped>\n",
       "    .dataframe tbody tr th:only-of-type {\n",
       "        vertical-align: middle;\n",
       "    }\n",
       "\n",
       "    .dataframe tbody tr th {\n",
       "        vertical-align: top;\n",
       "    }\n",
       "\n",
       "    .dataframe thead th {\n",
       "        text-align: right;\n",
       "    }\n",
       "</style>\n",
       "<table border=\"1\" class=\"dataframe\">\n",
       "  <thead>\n",
       "    <tr style=\"text-align: right;\">\n",
       "      <th></th>\n",
       "      <th>Comment</th>\n",
       "      <th>comment_clean</th>\n",
       "      <th>neg</th>\n",
       "      <th>neu</th>\n",
       "      <th>pos</th>\n",
       "      <th>compound</th>\n",
       "    </tr>\n",
       "  </thead>\n",
       "  <tbody>\n",
       "    <tr>\n",
       "      <th>483407</th>\n",
       "      <td>you are 100% accurate on the peer pressure and...</td>\n",
       "      <td>accurate peer pressure bad company thing hope ...</td>\n",
       "      <td>0.145</td>\n",
       "      <td>0.660</td>\n",
       "      <td>0.194</td>\n",
       "      <td>0.3818</td>\n",
       "    </tr>\n",
       "    <tr>\n",
       "      <th>779364</th>\n",
       "      <td>yeah i’ll be doing that tmr, it’s ph today</td>\n",
       "      <td>yeah i’ll tmr it’s ph today</td>\n",
       "      <td>0.000</td>\n",
       "      <td>0.784</td>\n",
       "      <td>0.216</td>\n",
       "      <td>0.2960</td>\n",
       "    </tr>\n",
       "    <tr>\n",
       "      <th>162219</th>\n",
       "      <td>not too bad actually, when i was younger it wa...</td>\n",
       "      <td>bad actually young lot bad lot scolding lot wh...</td>\n",
       "      <td>0.120</td>\n",
       "      <td>0.764</td>\n",
       "      <td>0.115</td>\n",
       "      <td>0.1884</td>\n",
       "    </tr>\n",
       "    <tr>\n",
       "      <th>751992</th>\n",
       "      <td>op pls deliver, i wanna see what their almost is</td>\n",
       "      <td>op pls deliver wanna see almost</td>\n",
       "      <td>0.000</td>\n",
       "      <td>0.860</td>\n",
       "      <td>0.140</td>\n",
       "      <td>0.0772</td>\n",
       "    </tr>\n",
       "    <tr>\n",
       "      <th>1012090</th>\n",
       "      <td>everybody clapped</td>\n",
       "      <td>everybody clap</td>\n",
       "      <td>0.000</td>\n",
       "      <td>1.000</td>\n",
       "      <td>0.000</td>\n",
       "      <td>0.0000</td>\n",
       "    </tr>\n",
       "  </tbody>\n",
       "</table>\n",
       "</div>"
      ],
      "text/plain": [
       "                                                   Comment  \\\n",
       "483407   you are 100% accurate on the peer pressure and...   \n",
       "779364          yeah i’ll be doing that tmr, it’s ph today   \n",
       "162219   not too bad actually, when i was younger it wa...   \n",
       "751992    op pls deliver, i wanna see what their almost is   \n",
       "1012090                                  everybody clapped   \n",
       "\n",
       "                                             comment_clean    neg    neu  \\\n",
       "483407   accurate peer pressure bad company thing hope ...  0.145  0.660   \n",
       "779364                         yeah i’ll tmr it’s ph today  0.000  0.784   \n",
       "162219   bad actually young lot bad lot scolding lot wh...  0.120  0.764   \n",
       "751992                     op pls deliver wanna see almost  0.000  0.860   \n",
       "1012090                                     everybody clap  0.000  1.000   \n",
       "\n",
       "           pos  compound  \n",
       "483407   0.194    0.3818  \n",
       "779364   0.216    0.2960  \n",
       "162219   0.115    0.1884  \n",
       "751992   0.140    0.0772  \n",
       "1012090  0.000    0.0000  "
      ]
     },
     "execution_count": 7,
     "metadata": {},
     "output_type": "execute_result"
    }
   ],
   "source": [
    "comments_df.head()"
   ]
  },
  {
   "cell_type": "code",
   "execution_count": 13,
   "metadata": {},
   "outputs": [
    {
     "data": {
      "text/plain": [
       "0.07411325110426013"
      ]
     },
     "execution_count": 13,
     "metadata": {},
     "output_type": "execute_result"
    }
   ],
   "source": [
    "average_negative = comments_df[\"neg\"].mean()\n",
    "average_negative"
   ]
  },
  {
   "cell_type": "code",
   "execution_count": 14,
   "metadata": {},
   "outputs": [
    {
     "data": {
      "text/plain": [
       "0.13282456871405693"
      ]
     },
     "execution_count": 14,
     "metadata": {},
     "output_type": "execute_result"
    }
   ],
   "source": [
    "average_positive = comments_df[\"pos\"].mean()\n",
    "average_positive"
   ]
  },
  {
   "cell_type": "code",
   "execution_count": 15,
   "metadata": {
    "scrolled": true
   },
   "outputs": [
    {
     "data": {
      "text/plain": [
       "0.7907636803067032"
      ]
     },
     "execution_count": 15,
     "metadata": {},
     "output_type": "execute_result"
    }
   ],
   "source": [
    "average_neutral = comments_df[\"neu\"].mean()\n",
    "average_neutral"
   ]
  },
  {
   "cell_type": "markdown",
   "metadata": {},
   "source": [
    "<h1>Results</h1>\n",
    "79% neutral comments<br>\n",
    "13.3% positive comments<br>\n",
    "7.4% negative comments<br><br>\n",
    "\n",
    "The comments on Reddit are largely neutral, and there are actually more positive than negative comments! \n"
   ]
  }
 ],
 "metadata": {
  "kernelspec": {
   "display_name": "Python 3",
   "language": "python",
   "name": "python3"
  },
  "language_info": {
   "codemirror_mode": {
    "name": "ipython",
    "version": 3
   },
   "file_extension": ".py",
   "mimetype": "text/x-python",
   "name": "python",
   "nbconvert_exporter": "python",
   "pygments_lexer": "ipython3",
   "version": "3.5.5"
  }
 },
 "nbformat": 4,
 "nbformat_minor": 2
}
